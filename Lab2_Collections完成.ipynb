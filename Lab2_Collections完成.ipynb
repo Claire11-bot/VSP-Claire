{
  "cells": [
    {
      "metadata": {
        "id": "53bab78b0d66b246"
      },
      "cell_type": "markdown",
      "source": [
        "# Lab Assignment # 2 - Collections"
      ],
      "id": "53bab78b0d66b246"
    },
    {
      "metadata": {
        "id": "c980b9461542bf99"
      },
      "cell_type": "markdown",
      "source": [
        "## Exercise 1 -- Comparison Operators\n",
        "Using `num_list` and list comprehensions, create three lists that correspond to the elements in num_list:\n",
        "1. `equal_list` whose elements should be true if the corresponding element in `num_list` is equal to 0 and false otherwise.\n",
        "2. `greater_list` whose elements should be true if the corresponding element in `num_list` is strictly greater than 0 and false otherwise.\n",
        "3. `lesser_list` whose elements should be true if the corresponding element in `num_list` is strictly less than 0 and false otherwise.\n",
        "4. Finally, using the three lists you generated, list comprehensions, and `zip()`, create `true_list` a list of length 7 where every element is true.\n",
        "\n",
        "**Hints for 4:**\n",
        "- `zip` can be used on more than two lists\n",
        "- use `or` within the list comprehension"
      ],
      "id": "c980b9461542bf99"
    },
    {
      "metadata": {
        "colab": {
          "base_uri": "https://localhost:8080/"
        },
        "id": "2e353f3a5c8caeb4",
        "outputId": "56d20daa-67e6-4d73-8616-676aa83b23ee"
      },
      "cell_type": "code",
      "source": [
        "# Exercise 1 Code\n",
        "# Don't edit the line below\n",
        "num_list = [-5, -3, -1, 0, 1, 3, 5]\n",
        "\n",
        "# your code below here\n",
        "equal_list = []\n",
        "for num in num_list:\n",
        "  if num == 0:\n",
        "    equal_list.append(True)\n",
        "  else:\n",
        "    equal_list.append(False)\n",
        "print(equal_list)"
      ],
      "id": "2e353f3a5c8caeb4",
      "outputs": [
        {
          "output_type": "stream",
          "name": "stdout",
          "text": [
            "[False, False, False, True, False, False, False]\n"
          ]
        }
      ],
      "execution_count": 5
    },
    {
      "cell_type": "code",
      "source": [
        "greater_list = []\n",
        "for num in num_list:\n",
        "  if num > 0:\n",
        "    greater_list.append(True)\n",
        "  else:\n",
        "    greater_list.append(False)\n",
        "print(greater_list)"
      ],
      "metadata": {
        "colab": {
          "base_uri": "https://localhost:8080/"
        },
        "id": "A5IpU9494KZf",
        "outputId": "e7a1a4f3-fdfd-45f7-870b-940a0ba970de"
      },
      "id": "A5IpU9494KZf",
      "execution_count": 9,
      "outputs": [
        {
          "output_type": "stream",
          "name": "stdout",
          "text": [
            "[False, False, False, False, True, True, True]\n"
          ]
        }
      ]
    },
    {
      "cell_type": "code",
      "source": [
        "lesser_list = []\n",
        "for num in num_list:\n",
        "  if num < 0:\n",
        "    lesser_list.append(True)\n",
        "  else:\n",
        "    lesser_list.append(False)\n",
        "print(lesser_list)"
      ],
      "metadata": {
        "colab": {
          "base_uri": "https://localhost:8080/"
        },
        "id": "PppvUFAY5nK3",
        "outputId": "6f505232-621c-47ee-c118-a57331cd3e4b"
      },
      "id": "PppvUFAY5nK3",
      "execution_count": 10,
      "outputs": [
        {
          "output_type": "stream",
          "name": "stdout",
          "text": [
            "[True, True, True, False, False, False, False]\n"
          ]
        }
      ]
    },
    {
      "cell_type": "code",
      "source": [
        "true_list = [eq or gt or lt for eq, gt, lt in zip(equal_list, greater_list, lesser_list)]\n",
        "print(true_list)"
      ],
      "metadata": {
        "colab": {
          "base_uri": "https://localhost:8080/"
        },
        "id": "p3FdVZB-Aiof",
        "outputId": "42cf7f60-0c54-4766-95f3-cc3a5f569de4"
      },
      "id": "p3FdVZB-Aiof",
      "execution_count": 26,
      "outputs": [
        {
          "output_type": "stream",
          "name": "stdout",
          "text": [
            "[True, True, True, True, True, True, True]\n"
          ]
        }
      ]
    },
    {
      "metadata": {
        "id": "af64d7ed5202ea4"
      },
      "cell_type": "markdown",
      "source": [
        "## Exercise 2 -- Lists\n",
        "Complete the following steps in the cells below:\n",
        "1. Add two different elements from `num_list` together so that the sum is 0. Print the result.\n",
        "2. Using `.append()`, add a 7 to the end of `num_list`\n",
        "3. Using `.insert()`, add a -7 to the start of `num_list`\n",
        "3. Change each element of `num_list` individually so that it it is equal to the list `[-4, -3, -2, -1, 0, 1, 2, 3, 4]`\n",
        "4. Use the list method `.reverse()` on `num_list` then print `num_list`. What does `.reverse()` do?  Did `.reverse()` change `num_list`?  Answer in the Markdown Cell.\n"
      ],
      "id": "af64d7ed5202ea4"
    },
    {
      "metadata": {
        "colab": {
          "base_uri": "https://localhost:8080/"
        },
        "id": "d7b462dd84d7b94a",
        "outputId": "3d74cb10-5349-4a83-e63b-729512a76b16"
      },
      "cell_type": "code",
      "source": [
        "# Exercise 2 Code\n",
        "print(num_list)\n",
        "num_list[0] + num_list[8]"
      ],
      "id": "d7b462dd84d7b94a",
      "outputs": [
        {
          "output_type": "stream",
          "name": "stdout",
          "text": [
            "[-4, -3, -2, -1, 0, 1, 2, 3, 4]\n"
          ]
        },
        {
          "output_type": "execute_result",
          "data": {
            "text/plain": [
              "0"
            ]
          },
          "metadata": {},
          "execution_count": 17
        }
      ],
      "execution_count": 17
    },
    {
      "cell_type": "code",
      "source": [
        "num_list.append(7)\n",
        "num_list.insert(0, -7)"
      ],
      "metadata": {
        "id": "uWRS-UTEGdXa"
      },
      "id": "uWRS-UTEGdXa",
      "execution_count": 12,
      "outputs": []
    },
    {
      "cell_type": "code",
      "source": [
        "print(num_list)"
      ],
      "metadata": {
        "colab": {
          "base_uri": "https://localhost:8080/"
        },
        "id": "B2nqqMEYGlTD",
        "outputId": "25b16270-8d06-4425-c0d5-0d7127f2073c"
      },
      "id": "B2nqqMEYGlTD",
      "execution_count": 13,
      "outputs": [
        {
          "output_type": "stream",
          "name": "stdout",
          "text": [
            "[-7, -5, -3, -1, 0, 1, 3, 5, 7]\n"
          ]
        }
      ]
    },
    {
      "cell_type": "code",
      "source": [
        "num_list[0] = -4\n",
        "num_list[1] = -3\n",
        "num_list[2] = -2\n",
        "num_list[3] = -1\n",
        "num_list[4] = 0\n",
        "num_list[5] = 1\n",
        "num_list[6] = 2\n",
        "num_list[7] = 3\n",
        "num_list[8] = 4\n",
        "print(num_list)"
      ],
      "metadata": {
        "colab": {
          "base_uri": "https://localhost:8080/"
        },
        "id": "8Wora1IO_vpL",
        "outputId": "8596b1cc-6cfb-4924-f56b-50dff8ab4a4e"
      },
      "id": "8Wora1IO_vpL",
      "execution_count": 14,
      "outputs": [
        {
          "output_type": "stream",
          "name": "stdout",
          "text": [
            "[-4, -3, -2, -1, 0, 1, 2, 3, 4]\n"
          ]
        }
      ]
    },
    {
      "cell_type": "code",
      "source": [
        "num_list.reverse\n",
        "print(num_list)"
      ],
      "metadata": {
        "colab": {
          "base_uri": "https://localhost:8080/"
        },
        "id": "6RhRvXtlA3fn",
        "outputId": "1512acf2-7242-414d-a388-a04f5ed05008"
      },
      "id": "6RhRvXtlA3fn",
      "execution_count": 15,
      "outputs": [
        {
          "output_type": "stream",
          "name": "stdout",
          "text": [
            "[-4, -3, -2, -1, 0, 1, 2, 3, 4]\n"
          ]
        }
      ]
    },
    {
      "metadata": {
        "id": "89dc2473a4e17740"
      },
      "cell_type": "markdown",
      "source": [
        "### Response to Exercise 2.5\n",
        "The .reverse() don't change num.list."
      ],
      "id": "89dc2473a4e17740"
    },
    {
      "metadata": {
        "id": "47726a8961d2a436"
      },
      "cell_type": "markdown",
      "source": [
        "## Exercise 3 -- Dictonaries\n",
        "First, define a dictonary called `my_dict`. It should contain four keys:\n",
        "- \"name\"\n",
        "- \"major\"\n",
        "- \"favorite artist\"\n",
        "- \"favorite food\"\n",
        "\n",
        "Fill out the values to match your name, major, etc.\n",
        "\n",
        "Using `my_dict` and string formatting, print a sentence in the cell below that says who you are, what your major is, your favorite artist, and your favorite food."
      ],
      "id": "47726a8961d2a436"
    },
    {
      "metadata": {
        "id": "e61e388fab247657"
      },
      "cell_type": "code",
      "source": [
        "# Exercise 3 Code\n",
        "my_dict= {\n",
        "    \"name\" : \"Claire\",\n",
        "    \"major\" : \"journalism\",\n",
        "    \"favorite artist\" : \"Monet\",\n",
        "    \"favorite food\" : \"apple\",\n",
        "}"
      ],
      "id": "e61e388fab247657",
      "outputs": [],
      "execution_count": 23
    },
    {
      "cell_type": "code",
      "source": [
        "sentence = f\"My name is {my_dict['name']}. My major is {my_dict['major']}. My favorite artist is {my_dict['favorite artist']}. My favorite food is {my_dict['favorite food']}.\"\n",
        "print(sentence)"
      ],
      "metadata": {
        "id": "hzJb_MJTDxKz",
        "colab": {
          "base_uri": "https://localhost:8080/"
        },
        "outputId": "9c0156dc-6c52-4dab-a42b-2cf0c099223e"
      },
      "id": "hzJb_MJTDxKz",
      "execution_count": 25,
      "outputs": [
        {
          "output_type": "stream",
          "name": "stdout",
          "text": [
            "My name is Claire. My major is journalism. My favorite artist is Monet. My favorite food is apple.\n"
          ]
        }
      ]
    },
    {
      "metadata": {
        "id": "8476f31e2c9c2da7"
      },
      "cell_type": "markdown",
      "source": [
        "## Exercise 4 -- Type Conversion\n",
        "We can use functions like `int()`, `float()`, and `str()` to convert from one type into another. Use them to complete the following tasks:\n",
        "1. Define a variable called `revenue` that is equal to price times quanitity. You can only use the strings that are already defined, the conversion functions above, and the `*` operator.\n",
        "2. Use `str()` to convert `revenue` into a string with a dollar sign in fron. Call this new variable `revenue_string` and print it.\n",
        "\n",
        "\n",
        "**Hint:** How can you remove the dollar sign before conversion?\n"
      ],
      "id": "8476f31e2c9c2da7"
    },
    {
      "metadata": {
        "id": "c0fe320082e8d0dd",
        "colab": {
          "base_uri": "https://localhost:8080/"
        },
        "outputId": "4b5be707-7634-40a8-85dc-1f2c4d19fbbc"
      },
      "cell_type": "code",
      "source": [
        "# Exercise 4 Code\n",
        "price_string  = \"$7.50\" # don't edit\n",
        "quantity_string = \"10\" # don't edit\n",
        "\n",
        "# your code here\n",
        "revenue = float(price_string[1:]) * int(quantity_string)\n",
        "revenue_string = \"$\" + str(revenue)\n",
        "print(revenue)\n",
        "print(revenue_string)\n",
        "\n"
      ],
      "id": "c0fe320082e8d0dd",
      "outputs": [
        {
          "output_type": "stream",
          "name": "stdout",
          "text": [
            "75.0\n",
            "$75.0\n"
          ]
        }
      ],
      "execution_count": null
    },
    {
      "cell_type": "code",
      "source": [
        "price_string[1:]"
      ],
      "metadata": {
        "colab": {
          "base_uri": "https://localhost:8080/",
          "height": 35
        },
        "id": "pQAPwH18VGv4",
        "outputId": "72fe98bf-d12e-4c43-f782-0b8412454133"
      },
      "id": "pQAPwH18VGv4",
      "execution_count": null,
      "outputs": [
        {
          "output_type": "execute_result",
          "data": {
            "text/plain": [
              "'7.50'"
            ],
            "application/vnd.google.colaboratory.intrinsic+json": {
              "type": "string"
            }
          },
          "metadata": {},
          "execution_count": 17
        }
      ]
    },
    {
      "cell_type": "code",
      "source": [
        "float(price_string[1:])"
      ],
      "metadata": {
        "colab": {
          "base_uri": "https://localhost:8080/"
        },
        "id": "nkDKfADJUsDG",
        "outputId": "6605e13e-d1b0-4a93-8460-80b973076d47"
      },
      "id": "nkDKfADJUsDG",
      "execution_count": null,
      "outputs": [
        {
          "output_type": "execute_result",
          "data": {
            "text/plain": [
              "7.5"
            ]
          },
          "metadata": {},
          "execution_count": 18
        }
      ]
    },
    {
      "cell_type": "code",
      "source": [
        "float(10)"
      ],
      "metadata": {
        "colab": {
          "base_uri": "https://localhost:8080/"
        },
        "id": "X4c5RCbAWIMW",
        "outputId": "d5459347-a3b2-43c3-95ca-c07887ecba7c"
      },
      "id": "X4c5RCbAWIMW",
      "execution_count": 19,
      "outputs": [
        {
          "output_type": "execute_result",
          "data": {
            "text/plain": [
              "10.0"
            ]
          },
          "metadata": {},
          "execution_count": 19
        }
      ]
    },
    {
      "cell_type": "code",
      "source": [
        "int(10.2)"
      ],
      "metadata": {
        "colab": {
          "base_uri": "https://localhost:8080/"
        },
        "id": "nL_nVOjZWLuA",
        "outputId": "9cfd0ff4-6368-4262-ed73-303a93fe004b"
      },
      "id": "nL_nVOjZWLuA",
      "execution_count": null,
      "outputs": [
        {
          "output_type": "execute_result",
          "data": {
            "text/plain": [
              "10"
            ]
          },
          "metadata": {},
          "execution_count": 23
        }
      ]
    },
    {
      "metadata": {
        "id": "9571d4b7f5224303"
      },
      "cell_type": "markdown",
      "source": [
        "## Exercise 5 -- Modules and Very Basic Plotting\n",
        "Complete the following steps in the cells below:\n",
        "1. Import the `math` module and give it an alias of `mt`.\n",
        "2. Import the `matplotlib.pyplot` module and give it an alias of `plt`.\n",
        "3. Create a variable named `num_range` and set it equal to a range of numbers from 0 to 1000 (including 1000).\n",
        "4. Using `num_range` and a list comprehension, create a list called `sine_list` that is equal to `sin((pi/100) * x)` for every `x` in the range `num_range`. (**Hint:** sin and pi are objects from the math library.)\n",
        "5. Finally, using `plt`, `num_range`, and `sine_list`, generate a line plot."
      ],
      "id": "9571d4b7f5224303"
    },
    {
      "metadata": {
        "id": "d8495aeebf9b755f"
      },
      "cell_type": "code",
      "source": [
        "# Exercise 5 Code\n",
        "import math as mt\n",
        "import matplotlib.pyplot as plt\n",
        "num_range = range(1001)\n",
        "sine_list = [mt.sin((mt.pi/100) * x) for x in num_range]"
      ],
      "id": "d8495aeebf9b755f",
      "outputs": [],
      "execution_count": 2
    },
    {
      "cell_type": "markdown",
      "source": [
        "I don't quite understand the content of this part.Would you like to talk a little bit more about how to generate the line plot?"
      ],
      "metadata": {
        "id": "XZ52JVTtCS61"
      },
      "id": "XZ52JVTtCS61"
    }
  ],
  "metadata": {
    "kernelspec": {
      "display_name": "Python 3",
      "language": "python",
      "name": "python3"
    },
    "language_info": {
      "codemirror_mode": {
        "name": "ipython",
        "version": 2
      },
      "file_extension": ".py",
      "mimetype": "text/x-python",
      "name": "python",
      "nbconvert_exporter": "python",
      "pygments_lexer": "ipython2",
      "version": "2.7.6"
    },
    "colab": {
      "provenance": []
    }
  },
  "nbformat": 4,
  "nbformat_minor": 5
}