{
  "cells": [
    {
      "cell_type": "markdown",
      "id": "aa4602c3",
      "metadata": {
        "id": "aa4602c3"
      },
      "source": [
        "# Lab Assignment 5 -- Arrays, Matrices, and NumPy\n",
        "In this lab, you will complete a series of exercises related to the lecture material on arrays, matrices, and NumPy, You will have to do some calculations on a piece of paper or tablet -- submit either pictures or a PDF of your work with this Notebook."
      ]
    },
    {
      "cell_type": "markdown",
      "id": "36d604de",
      "metadata": {
        "id": "36d604de"
      },
      "source": [
        "Throughout this assignment, we will refer to the following arrays.\n",
        "$$\n",
        "A = \\left[\\begin{array}{ccc}\n",
        "1 & 5 & 3\\\\ 5 & -4 & 2\\\\ 3 & 2 & 1\n",
        "\\end{array}\\right], B = \\left[\\begin{array}{cccc}\n",
        "0 & 1 & 3 & 9\\\\ 6 & -1 & -2 & -9\\\\ 2 & 5 & 1 &2\n",
        "\\end{array}\\right], C = \\left[\\begin{array}{ccc}\n",
        "1 & 5 & -13\\\\ 7 & -7 & 7\\\\ 2 & -3 & 1 \\\\ 0 & 7 & -6\n",
        "\\end{array}\\right] \\\\ d = \\left[\\begin{array}{c}\n",
        "1 \\\\ -3\\\\ 2\n",
        "\\end{array}\\right], f= \\left[\\begin{array}{c}\n",
        "-2 \\\\ 4\\\\ 1\n",
        "\\end{array}\\right],g = \\left[\\begin{array}{c}\n",
        "-1 \\\\ 10 \\\\ -1\\\\ 5\n",
        "\\end{array}\\right]\n",
        "$$"
      ]
    },
    {
      "cell_type": "markdown",
      "id": "6814b00c",
      "metadata": {
        "id": "6814b00c"
      },
      "source": [
        "## Exercise 1 -- Defining Arrays\n",
        "Import `numpy` with the alias np and define the matrices above manually in the cell below. Make sure you define these carefully as subsequent responses will be incorrect otherwise.\n",
        "\n",
        "<span style=\"color: red;\"> **Be Careful!**</span>  After defining these objects, don't reassign these variable names to a different object for the rest of the assignment."
      ]
    },
    {
      "cell_type": "code",
      "execution_count": 1,
      "id": "1e9acd73",
      "metadata": {
        "id": "1e9acd73"
      },
      "outputs": [],
      "source": [
        "# Exercise 1 code\n",
        "import numpy as np\n",
        "A = np.array([[1, 5, 3],\n",
        "        [5, -4, 2],\n",
        "        [3, 2, 1]])\n",
        "\n",
        "B = np.array([[0, 6, 2],\n",
        "        [1, -15, -2],\n",
        "        [19, -9, 2]])\n",
        "\n",
        "C = np.array([[17, 20, 5],\n",
        "        [-7, -3, 7],\n",
        "        [-13, 71, -6]])\n",
        "\n",
        "d = np.array([1, -3, 2])\n",
        "\n",
        "f = np.array([-2, 4, 1])\n",
        "\n",
        "g = np.array([[-1, 10, -1],\n",
        "        [-5, 15, -3]])"
      ]
    },
    {
      "cell_type": "markdown",
      "id": "445dc79e",
      "metadata": {
        "id": "445dc79e"
      },
      "source": [
        "##  Exercise 2 -- Array Addition\n",
        "Is the operation $d + f$ possible? What about $d + g$? Why or why not? Answer in the markdown cell below. For each possible operation, print its result in the code cell below.\n"
      ]
    },
    {
      "cell_type": "code",
      "execution_count": 2,
      "id": "36bb39c3",
      "metadata": {
        "colab": {
          "base_uri": "https://localhost:8080/"
        },
        "id": "36bb39c3",
        "outputId": "dbf0b1c9-e2e3-49b1-fb17-849e266d6419"
      },
      "outputs": [
        {
          "output_type": "stream",
          "name": "stdout",
          "text": [
            "[-1  1  3]\n"
          ]
        }
      ],
      "source": [
        "# Exercise 2 code\n",
        "print(d+f)"
      ]
    },
    {
      "cell_type": "markdown",
      "id": "8dc481c1",
      "metadata": {
        "id": "8dc481c1"
      },
      "source": [
        "### Response to Exercise 2\n",
        "The operation d+f is possible because both d and f are 3x1 column vectors, meaning they have the same dimensions.\n",
        "\n",
        "The operation d+g is not possible because d is a 3x1 column vector while g is a 4x1 column vector."
      ]
    },
    {
      "cell_type": "markdown",
      "id": "7cffe2ea",
      "metadata": {
        "id": "7cffe2ea"
      },
      "source": [
        "## Exercise 3 -- Dot Product\n",
        "On a piece of paper or tablet, **legibly** calculate the dot product of $d$ and $f$. Label your response as \"Solution to Exercise 3\". Show your work as we did in lecture. Check your solution by calling `np.dot()` in the cell below."
      ]
    },
    {
      "cell_type": "code",
      "execution_count": 3,
      "id": "f8328d5e",
      "metadata": {
        "id": "f8328d5e",
        "colab": {
          "base_uri": "https://localhost:8080/"
        },
        "outputId": "b0508cde-5908-4162-ea87-354bf1bdc50b"
      },
      "outputs": [
        {
          "output_type": "stream",
          "name": "stdout",
          "text": [
            "-12\n"
          ]
        }
      ],
      "source": [
        "# Exercise 3 code\n",
        "dot_product = np.dot(d,f)\n",
        "print(dot_product)"
      ]
    },
    {
      "cell_type": "markdown",
      "id": "1499a45d",
      "metadata": {
        "id": "1499a45d"
      },
      "source": [
        "## Exercise 4 -- Vector Slices\n",
        "Using only `g` and slice indexing, assign `[10 -1]` to `tiny_array`. What is the type of `tiny_array`? Why is this desirable behavior? Answer in Markdown."
      ]
    },
    {
      "cell_type": "code",
      "execution_count": 4,
      "id": "edaadcc6",
      "metadata": {
        "id": "edaadcc6",
        "colab": {
          "base_uri": "https://localhost:8080/"
        },
        "outputId": "092acae8-d93d-41e4-9959-2f1691bd37f8"
      },
      "outputs": [
        {
          "output_type": "stream",
          "name": "stdout",
          "text": [
            "<class 'numpy.ndarray'>\n"
          ]
        }
      ],
      "source": [
        "# Exercise 4 code\n",
        "tiny_array = g[1:3]\n",
        "tiny_array\n",
        "print(type(tiny_array))"
      ]
    },
    {
      "cell_type": "markdown",
      "id": "8e87d5fa",
      "metadata": {
        "id": "8e87d5fa"
      },
      "source": [
        "### Response to Exercise 4\n",
        "The type of tiny_array is <class 'numpy.ndarray'>.It maintains consistency in data types within the numpy library."
      ]
    },
    {
      "cell_type": "markdown",
      "id": "bce70be0",
      "metadata": {
        "id": "bce70be0"
      },
      "source": [
        "## Exercise 5 -- Matrix Transposes and Addition\n",
        "On a piece of paper or tablet, **legibly** calculate the sum of $B$ and the transpose of $C$. Label your response as \"Solution to Exercise 5\". Show your work as we did in lecture.\n",
        "\n",
        "Check your solution in the cell below. Could we add $B$ and $C$? Answer in the Markdown cell below."
      ]
    },
    {
      "cell_type": "code",
      "execution_count": 5,
      "id": "5459f3a6",
      "metadata": {
        "scrolled": true,
        "id": "5459f3a6",
        "colab": {
          "base_uri": "https://localhost:8080/"
        },
        "outputId": "48deaec0-4ab3-46cb-b319-2c722fb5d716"
      },
      "outputs": [
        {
          "output_type": "stream",
          "name": "stdout",
          "text": [
            "[[ 17  -1 -11]\n",
            " [ 21 -18  69]\n",
            " [ 24  -2  -4]]\n"
          ]
        }
      ],
      "source": [
        "# Exercise 5 code\n",
        "C_T = C.T\n",
        "print(B+C_T)"
      ]
    },
    {
      "cell_type": "markdown",
      "id": "73d9ee90",
      "metadata": {
        "id": "73d9ee90"
      },
      "source": [
        "### Response to Exercise 5\n",
        "No, we cannot directly add B and C because they do not have the same dimensions.B is a 3x1 matrix, while C is a 4x3 matrix. For matrix addition, both matrices must have the same dimensions."
      ]
    },
    {
      "cell_type": "markdown",
      "id": "9143d0da",
      "metadata": {
        "id": "9143d0da"
      },
      "source": [
        "## Exercise 6 -- Matrix Indexing\n",
        "Complete the following steps:\n",
        "- Define a variable `tiny_mat` and set it equal to `np.array([[-7, 7], [-3, 1]])`.\n",
        "- Using only `C` and slice-indexing, recreate `tiny_mat` and assign it to `tiny_mat_clone`.\n",
        "- Define a funcion called `compare_arrs` that takes two arrays and prints \"Arrays are the same!\" if the arrays are the same and \"Arrays are different!\" if the arrays are different.  \n",
        "- Call `compare_arrs` on `tiny_mat` and `tiny_mat_clone`.\n",
        "- Call `compare_arrs` on `np.array([1, 3, 4])` and `tiny_mat_clone`.\n",
        "\n",
        "\n",
        "**Hint:** Use `np.array_equal()` within `compare_arrs`."
      ]
    },
    {
      "cell_type": "code",
      "source": [
        "C"
      ],
      "metadata": {
        "colab": {
          "base_uri": "https://localhost:8080/"
        },
        "id": "nLqnT9C6yiFT",
        "outputId": "e4c592e3-f1dc-4d2b-8a7c-48391eafcbd2"
      },
      "id": "nLqnT9C6yiFT",
      "execution_count": 6,
      "outputs": [
        {
          "output_type": "execute_result",
          "data": {
            "text/plain": [
              "array([[ 17,  20,   5],\n",
              "       [ -7,  -3,   7],\n",
              "       [-13,  71,  -6]])"
            ]
          },
          "metadata": {},
          "execution_count": 6
        }
      ]
    },
    {
      "cell_type": "code",
      "execution_count": 7,
      "id": "ccf0fe9b",
      "metadata": {
        "id": "ccf0fe9b",
        "colab": {
          "base_uri": "https://localhost:8080/"
        },
        "outputId": "7df13d12-b5ee-44ec-b431-e2aba4f7aa9b"
      },
      "outputs": [
        {
          "output_type": "execute_result",
          "data": {
            "text/plain": [
              "array([[-3,  7],\n",
              "       [71, -6]])"
            ]
          },
          "metadata": {},
          "execution_count": 7
        }
      ],
      "source": [
        "# Exercise 6 -- Define Matrices\n",
        "tiny_mat = np.array([[-7,7],[-3,1]])\n",
        "tiny_mat_clone = C[1:3,1:3]\n",
        "tiny_mat_clone"
      ]
    },
    {
      "cell_type": "code",
      "execution_count": 8,
      "id": "5340e4cb",
      "metadata": {
        "id": "5340e4cb"
      },
      "outputs": [],
      "source": [
        "# Exercise 6 -- Define Function\n",
        "def compare_arrs(arr1,arr2):\n",
        "  if np.array_equal(arr1,arr2):\n",
        "    print(\"Arrays are the same!\")\n",
        "  else:\n",
        "    print(\"Arrays are different!\")"
      ]
    },
    {
      "cell_type": "code",
      "execution_count": 11,
      "id": "3e32c3ad",
      "metadata": {
        "scrolled": true,
        "id": "3e32c3ad",
        "colab": {
          "base_uri": "https://localhost:8080/"
        },
        "outputId": "f8dc2911-2bf5-4dd4-f5b0-f12ac36c1d5c"
      },
      "outputs": [
        {
          "output_type": "stream",
          "name": "stdout",
          "text": [
            "Arrays are different!\n",
            "Arrays are different!\n"
          ]
        }
      ],
      "source": [
        "# Exercise 6 -- Call compare_arrs\n",
        "compare_arrs(tiny_mat,tiny_mat_clone)\n",
        "compare_arrs(np.array([1, 3, 4]), tiny_mat_clone)"
      ]
    },
    {
      "cell_type": "markdown",
      "id": "fe3bbe39",
      "metadata": {
        "id": "fe3bbe39"
      },
      "source": [
        "## Exercise 7 -- Symmetric Matrices\n",
        "A **symmetric matrix** is a matrix that is equal to its transpose. Using your function `compare_arrs`, test whether `A`, `B`, and `C` are symmetric. What does it say about the symmetry of a matrix when \"Arrays are the same!\" is printed? Answer in the Markdown cell below."
      ]
    },
    {
      "cell_type": "code",
      "execution_count": 12,
      "id": "c6b6d501",
      "metadata": {
        "scrolled": true,
        "id": "c6b6d501",
        "colab": {
          "base_uri": "https://localhost:8080/"
        },
        "outputId": "ee8c9aca-680d-4974-94e4-5a1976e04c10"
      },
      "outputs": [
        {
          "output_type": "stream",
          "name": "stdout",
          "text": [
            "Arrays are the same!\n",
            "Arrays are different!\n",
            "Arrays are different!\n"
          ]
        }
      ],
      "source": [
        "# Exercise 7 code\n",
        "compare_arrs(A, A.T)\n",
        "compare_arrs(B, B.T)\n",
        "compare_arrs(C, C.T)"
      ]
    },
    {
      "cell_type": "markdown",
      "id": "9a11d543",
      "metadata": {
        "id": "9a11d543"
      },
      "source": [
        "### Response to Exercise 7\n",
        "It means that the matrix is equal to its transpose, indicating that the matrix is symmetric."
      ]
    },
    {
      "cell_type": "markdown",
      "id": "e1b4c19e",
      "metadata": {
        "id": "e1b4c19e"
      },
      "source": [
        "## Exercise 8 -- Matrix Concatenation\n",
        "We can glue or **concatenate** two arrays together using `np.vstack()` and `np.hstack()`. Each function takes a list of arrays as an argument. The former concatenates two arrays vertically (think of stacking rectangles on top of eachother) while the latter concatenates them horizontally (think of stacking rectangles side-by-side).\n",
        "\n",
        "Answer the following questions below:\n",
        "- If we call `np.vstack([A, B])` and it executes successfully, what must be true about the size of `A `and `B`?\n",
        "- If we call `np.hstack([A, B])` and it executes successfully, what must be true about the size of `A `and `B`?\n",
        "\n",
        "**Hint:** Try concatenating two arrays until you get an error. What does the error say?"
      ]
    },
    {
      "cell_type": "code",
      "execution_count": 19,
      "id": "30265351",
      "metadata": {
        "id": "30265351",
        "colab": {
          "base_uri": "https://localhost:8080/"
        },
        "outputId": "3e0e9627-12be-4032-f5a2-ee2413cf6a92"
      },
      "outputs": [
        {
          "output_type": "execute_result",
          "data": {
            "text/plain": [
              "array([[  1,   5,   3,   0,   6,   2],\n",
              "       [  5,  -4,   2,   1, -15,  -2],\n",
              "       [  3,   2,   1,  19,  -9,   2]])"
            ]
          },
          "metadata": {},
          "execution_count": 19
        }
      ],
      "source": [
        "# Exercise 8 -- Test vstack and hstack here as needed\n",
        "np.vstack([A, B])"
      ]
    },
    {
      "cell_type": "code",
      "source": [
        "np.hstack([A, B])"
      ],
      "metadata": {
        "colab": {
          "base_uri": "https://localhost:8080/"
        },
        "id": "eHi47T-04SB1",
        "outputId": "ed28b0ce-ecae-4836-9732-437ec27fa4c7"
      },
      "id": "eHi47T-04SB1",
      "execution_count": 20,
      "outputs": [
        {
          "output_type": "execute_result",
          "data": {
            "text/plain": [
              "array([[  1,   5,   3,   0,   6,   2],\n",
              "       [  5,  -4,   2,   1, -15,  -2],\n",
              "       [  3,   2,   1,  19,  -9,   2]])"
            ]
          },
          "metadata": {},
          "execution_count": 20
        }
      ]
    },
    {
      "cell_type": "markdown",
      "id": "08e35010",
      "metadata": {
        "id": "08e35010"
      },
      "source": [
        "### Response to Exercise 8"
      ]
    },
    {
      "cell_type": "markdown",
      "id": "76713bcd",
      "metadata": {
        "id": "76713bcd"
      },
      "source": [
        "## Exercise 9 -- Element-Wise Multiplication\n",
        "On a piece of paper or tablet, **legibly** calculate the element-wise multiplication of $B$ and the transpose of $C$. Label your response as \"Solution to Exercise 9\". Show your work as we did in lecture.\n",
        "\n",
        "Check your solution in the cell below."
      ]
    },
    {
      "cell_type": "code",
      "execution_count": 13,
      "id": "a7148441",
      "metadata": {
        "id": "a7148441",
        "colab": {
          "base_uri": "https://localhost:8080/"
        },
        "outputId": "e3d70814-2ff6-4865-9faa-c62d0c084d55"
      },
      "outputs": [
        {
          "output_type": "stream",
          "name": "stdout",
          "text": [
            "[[   0  -42  -26]\n",
            " [  20   45 -142]\n",
            " [  95  -63  -12]]\n"
          ]
        }
      ],
      "source": [
        "# Exercise 9 Code\n",
        "print(B * C.T)"
      ]
    },
    {
      "cell_type": "markdown",
      "id": "74af3830",
      "metadata": {
        "id": "74af3830"
      },
      "source": [
        "## Exercise 10 -- Matrix Multiplication\n",
        "On a piece of paper or tablet, **legibly** complete the following matrix multiplication (not element-wise multiplication!) exercise:\n",
        "$$A * B$$\n",
        "\n",
        "\n",
        "\n",
        "\n",
        "Label your response as \"Solution to Exercise 10\". Show your work as we did in lecture.\n",
        "\n",
        "Check your solution in the cell below uinsg `np.matmul()`."
      ]
    },
    {
      "cell_type": "code",
      "execution_count": 18,
      "id": "4e2798fb",
      "metadata": {
        "id": "4e2798fb",
        "colab": {
          "base_uri": "https://localhost:8080/"
        },
        "outputId": "542a572b-a615-479e-d31d-0547041b7c26"
      },
      "outputs": [
        {
          "output_type": "execute_result",
          "data": {
            "text/plain": [
              "array([[  0,  30,   6],\n",
              "       [  5,  60,  -4],\n",
              "       [ 57, -18,   2]])"
            ]
          },
          "metadata": {},
          "execution_count": 18
        }
      ],
      "source": [
        "# Exercise 10 Code\n",
        "A * B"
      ]
    },
    {
      "cell_type": "markdown",
      "id": "0ee66928",
      "metadata": {
        "id": "0ee66928"
      },
      "source": [
        "## Exercise 11 -- Plotting with `np.linspace`\n",
        "Using `numpy` and `matplotlib.pyplot`, plot the function `sin(log(x))`.\n",
        "Make sure you use a fine grid.\n",
        "\n",
        "**Hint:** Look at lectures for hints."
      ]
    },
    {
      "cell_type": "code",
      "execution_count": 32,
      "id": "ea993843",
      "metadata": {
        "id": "ea993843",
        "colab": {
          "base_uri": "https://localhost:8080/",
          "height": 517
        },
        "outputId": "640167fc-b4f5-4026-af8c-29f2b537ea7b"
      },
      "outputs": [
        {
          "output_type": "stream",
          "name": "stderr",
          "text": [
            "<ipython-input-32-17ffcb4c0f01>:3: RuntimeWarning: divide by zero encountered in log\n",
            "  plt.plot(x, np.sin(np.log(x)))\n",
            "<ipython-input-32-17ffcb4c0f01>:3: RuntimeWarning: invalid value encountered in sin\n",
            "  plt.plot(x, np.sin(np.log(x)))\n"
          ]
        },
        {
          "output_type": "execute_result",
          "data": {
            "text/plain": [
              "[<matplotlib.lines.Line2D at 0x7b4b0d62cbb0>]"
            ]
          },
          "metadata": {},
          "execution_count": 32
        },
        {
          "output_type": "display_data",
          "data": {
            "text/plain": [
              "<Figure size 640x480 with 1 Axes>"
            ],
            "image/png": "[encoded data removed]"
          },
          "metadata": {}
        }
      ],
      "source": [
        "# Exercise 11 Code\n",
        "import matplotlib.pyplot as plt\n",
        "plt.plot(x, np.sin(np.log(x)))"
      ]
    },
    {
      "cell_type": "markdown",
      "id": "e9452e99",
      "metadata": {
        "id": "e9452e99"
      },
      "source": [
        "## Exercise 12 -- Multidimensional Arrays\n",
        "Run the following command `print(zeros((3,4,5)))` in the cell below and answer the following questions in the Markdown cell below.\n",
        "1. What do you think the dimensionality of this array is?  \n",
        "2. Why would writing this array on paper be difficult?\n",
        "\n"
      ]
    },
    {
      "cell_type": "code",
      "execution_count": 25,
      "id": "541190ea",
      "metadata": {
        "scrolled": true,
        "id": "541190ea",
        "colab": {
          "base_uri": "https://localhost:8080/"
        },
        "outputId": "cab96d77-80dc-406c-fc20-852b7857ec9b"
      },
      "outputs": [
        {
          "output_type": "stream",
          "name": "stdout",
          "text": [
            "[[[0. 0. 0. 0. 0.]\n",
            "  [0. 0. 0. 0. 0.]\n",
            "  [0. 0. 0. 0. 0.]\n",
            "  [0. 0. 0. 0. 0.]]\n",
            "\n",
            " [[0. 0. 0. 0. 0.]\n",
            "  [0. 0. 0. 0. 0.]\n",
            "  [0. 0. 0. 0. 0.]\n",
            "  [0. 0. 0. 0. 0.]]\n",
            "\n",
            " [[0. 0. 0. 0. 0.]\n",
            "  [0. 0. 0. 0. 0.]\n",
            "  [0. 0. 0. 0. 0.]\n",
            "  [0. 0. 0. 0. 0.]]]\n"
          ]
        }
      ],
      "source": [
        "# Exercise 12 Code\n",
        "print(np.zeros((3 ,4, 5)))"
      ]
    },
    {
      "cell_type": "markdown",
      "id": "bb249cad",
      "metadata": {
        "id": "bb249cad"
      },
      "source": [
        "### Response to Exercise 12\n",
        "Maybe the dimensionality of this array is 4x5."
      ]
    }
  ],
  "metadata": {
    "kernelspec": {
      "display_name": "Python 3 (ipykernel)",
      "language": "python",
      "name": "python3"
    },
    "language_info": {
      "codemirror_mode": {
        "name": "ipython",
        "version": 3
      },
      "file_extension": ".py",
      "mimetype": "text/x-python",
      "name": "python",
      "nbconvert_exporter": "python",
      "pygments_lexer": "ipython3",
      "version": "3.9.15"
    },
    "colab": {
      "provenance": []
    }
  },
  "nbformat": 4,
  "nbformat_minor": 5
}